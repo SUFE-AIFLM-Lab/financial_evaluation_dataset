{
 "cells": [
  {
   "cell_type": "code",
   "execution_count": 1,
   "metadata": {},
   "outputs": [],
   "source": [
    "import json\n",
    "import openai\n",
    "import pandas as pd\n",
    "\n",
    "from code.utils import normalize\n",
    "from code.gpt_api import gpt_eval, gpt_eval_template\n",
    "from gen_pred import get_preds"
   ]
  },
  {
   "cell_type": "code",
   "execution_count": 2,
   "metadata": {},
   "outputs": [],
   "source": [
    "# FILL IN YOUR OPENAI KEY\n",
    "openai.api_key = \"\""
   ]
  },
  {
   "cell_type": "code",
   "execution_count": 3,
   "metadata": {},
   "outputs": [],
   "source": [
    "# 证券从业考试，保险核保推理\n",
    "# 构建数据集\n",
    "datasets = [\"证券从业资格考试\", \"保险核保推理\"]\n",
    "data = pd.read_csv(\"data/fin_test.csv\")\n",
    "dataset2prompt = json.load(open(\"code/dataset2prompt.json\", \"r\"))\n",
    "for dataset in datasets:\n",
    "    prompt_template = dataset2prompt[dataset]\n",
    "    preds = get_preds(data.query(\"任务 == @dataset\")[['id','问题','答案']],prompt_template)\n",
    "    with open(f\"pred/{dataset}.json\",\"w\") as f:\n",
    "        for pred in preds:\n",
    "            json.dump(pred,f,ensure_ascii=False)\n",
    "            f.write('\\n')"
   ]
  },
  {
   "cell_type": "markdown",
   "metadata": {},
   "source": [
    "# 客观题评估"
   ]
  },
  {
   "cell_type": "code",
   "execution_count": 4,
   "metadata": {},
   "outputs": [],
   "source": [
    "generated_answer_list = []\n",
    "reference_answer_list = []\n",
    "with open(\"pred/证券从业资格考试.json\",'r') as f:\n",
    "    for line in f:\n",
    "        data = json.loads(line)\n",
    "        question = data['prompt']\n",
    "        reference_answer = data['answer']\n",
    "        generated_answer = gpt_eval(question)\n",
    "        reference_answer_list.append(reference_answer)\n",
    "        generated_answer_list.append(generated_answer)"
   ]
  },
  {
   "cell_type": "code",
   "execution_count": 5,
   "metadata": {},
   "outputs": [
    {
     "name": "stdout",
     "output_type": "stream",
     "text": [
      "证券从业考试准确率： 40.0 %\n"
     ]
    }
   ],
   "source": [
    "# Calculate Accuracy\n",
    "res_list = []\n",
    "for gen_answer, ref_answer in zip(generated_answer_list, reference_answer_list):\n",
    "    gen_answer = normalize(gen_answer)\n",
    "    if gen_answer == ref_answer:\n",
    "        res_list.append(True)\n",
    "    else:\n",
    "        res_list.append(False)\n",
    "\n",
    "true_count = res_list.count(True)\n",
    "total_count = len(res_list)\n",
    "accuracy = (true_count / total_count) * 100\n",
    "print(\"证券从业考试准确率：\", accuracy, \"%\")"
   ]
  },
  {
   "cell_type": "markdown",
   "metadata": {},
   "source": [
    "# 主观题评估"
   ]
  },
  {
   "cell_type": "code",
   "execution_count": 6,
   "metadata": {},
   "outputs": [],
   "source": [
    "generated_answer_list = []\n",
    "score_list = []\n",
    "with open(\"pred/保险核保推理.json\",'r') as f:\n",
    "    for line in f:\n",
    "        data = json.loads(line)\n",
    "        question = data['prompt']\n",
    "        generated_answer = gpt_eval(question)\n",
    "        generated_answer_list.append(generated_answer)\n",
    "        gpt_eval_input = gpt_eval_template.format(task=\"保险核保推理\", question=question, generated_answer=generated_answer)\n",
    "        gpt_score = gpt_eval(gpt_eval_input, \"gpt-4\")\n",
    "        try:\n",
    "            score_list.append(float(gpt_score))\n",
    "        except:\n",
    "            score_list.append(\"\")"
   ]
  },
  {
   "cell_type": "code",
   "execution_count": 7,
   "metadata": {},
   "outputs": [
    {
     "name": "stdout",
     "output_type": "stream",
     "text": [
      "保险逻辑推理得分: 8.5\n"
     ]
    }
   ],
   "source": [
    "score_list = [score for score in score_list if isinstance(score, (int, float))]\n",
    "average = sum(score_list) / len(score_list)\n",
    "print(f\"保险逻辑推理得分: {average}\")"
   ]
  },
  {
   "cell_type": "code",
   "execution_count": null,
   "metadata": {},
   "outputs": [],
   "source": []
  },
  {
   "cell_type": "code",
   "execution_count": null,
   "metadata": {},
   "outputs": [],
   "source": []
  }
 ],
 "metadata": {
  "kernelspec": {
   "display_name": "Python 3",
   "language": "python",
   "name": "python3"
  },
  "language_info": {
   "codemirror_mode": {
    "name": "ipython",
    "version": 3
   },
   "file_extension": ".py",
   "mimetype": "text/x-python",
   "name": "python",
   "nbconvert_exporter": "python",
   "pygments_lexer": "ipython3",
   "version": "3.9.6"
  },
  "orig_nbformat": 4
 },
 "nbformat": 4,
 "nbformat_minor": 2
}
